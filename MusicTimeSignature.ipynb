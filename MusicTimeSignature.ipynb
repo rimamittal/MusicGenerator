{
 "cells": [
  {
   "cell_type": "code",
   "execution_count": 1,
   "metadata": {},
   "outputs": [],
   "source": [
    "import pretty_midi\n",
    "import pandas\n",
    "import shutil\n",
    "import glob\n",
    "import os"
   ]
  },
  {
   "cell_type": "code",
   "execution_count": 2,
   "metadata": {},
   "outputs": [
    {
     "name": "stdout",
     "output_type": "stream",
     "text": [
      "['.DS_Store', '.ipynb_checkpoints', '130000_Pop_Rock_Classical_Videogame_EDM_MIDI_Archive[6_19_15].zip', '1656-Article Text-1652-1-10-20080129.pdf', 'magenta', 'midi-rnn', 'MidiCollection', 'MidiFeatureExtraction.ipynb', 'MusicGenerator', 'MusicTimeSignature.ipynb', 'pptfromICLR', 'test', 'Untitled.ipynb', 'Untitled1.ipynb']\n"
     ]
    }
   ],
   "source": [
    "# Listing current data on our folder.\n",
    "print(os.listdir(\".\"))"
   ]
  },
  {
   "cell_type": "code",
   "execution_count": 3,
   "metadata": {},
   "outputs": [],
   "source": [
    "def groupSongsByRythm(currDir, newDir):\n",
    "    if not os.path.exists(newDir):\n",
    "        os.makedirs(newDir)\n",
    "    counter = 0;\n",
    "    for filename in glob.iglob(currDir + '**/*.mid', recursive=True):\n",
    "        #     to keep track of corrupt midi files\n",
    "        counter = counter + 1 ; \n",
    "        try : \n",
    "            ts = pretty_midi.PrettyMIDI(filename).time_signature_changes\n",
    "            if(len(ts) > 0):\n",
    "                tsc = ts[0]\n",
    "                dirname = newDir + \"/num\" + str(tsc.numerator) + \"den\" + str(tsc.denominator)\n",
    "                if not os.path.exists(dirname):\n",
    "                    os.makedirs(dirname)\n",
    "                shutil.move(filename, dirname + '/' + filename.rsplit('\\\\', 1)[-1])\n",
    "        except Exception as e: \n",
    "            print(e)\n",
    "            continue;\n",
    "    print(\"moved \" + str(counter) + \"files\")\n",
    "        \n",
    "    "
   ]
  },
  {
   "cell_type": "code",
   "execution_count": 4,
   "metadata": {},
   "outputs": [
    {
     "name": "stderr",
     "output_type": "stream",
     "text": [
      "C:\\Users\\rimam\\Anaconda3\\envs\\tensorflowcpu\\lib\\site-packages\\pretty_midi\\pretty_midi.py:100: RuntimeWarning: Tempo, Key or Time signature change events found on non-zero tracks.  This is not a valid type 0 or type 1 MIDI file.  Tempo, Key or Time Signature may be wrong.\n",
      "  RuntimeWarning)\n"
     ]
    },
    {
     "name": "stdout",
     "output_type": "stream",
     "text": [
      "data byte must be in range 0..127\n",
      "data byte must be in range 0..127\n",
      "data byte must be in range 0..127\n",
      "\n",
      "data byte must be in range 0..127\n",
      "MIDI file has a largest tick of 2147892448, it is likely corrupt\n",
      "Could not decode key with 1 flats and mode 147\n",
      "data byte must be in range 0..127\n",
      "\n",
      "data byte must be in range 0..127\n"
     ]
    },
    {
     "ename": "TypeError",
     "evalue": "can only concatenate str (not \"int\") to str",
     "output_type": "error",
     "traceback": [
      "\u001b[1;31m---------------------------------------------------------------------------\u001b[0m",
      "\u001b[1;31mTypeError\u001b[0m                                 Traceback (most recent call last)",
      "\u001b[1;32m<ipython-input-4-09defb145117>\u001b[0m in \u001b[0;36m<module>\u001b[1;34m\u001b[0m\n\u001b[1;32m----> 1\u001b[1;33m \u001b[0mgroupSongsByRythm\u001b[0m\u001b[1;33m(\u001b[0m\u001b[1;34m'Guitar_midkar.com_MIDIRip/'\u001b[0m\u001b[1;33m,\u001b[0m \u001b[1;34m'newTesting'\u001b[0m\u001b[1;33m)\u001b[0m\u001b[1;33m\u001b[0m\u001b[1;33m\u001b[0m\u001b[0m\n\u001b[0m",
      "\u001b[1;32m<ipython-input-3-e96d26964b62>\u001b[0m in \u001b[0;36mgroupSongsByRythm\u001b[1;34m(currDir, newDir)\u001b[0m\n\u001b[0;32m     17\u001b[0m             \u001b[0mprint\u001b[0m\u001b[1;33m(\u001b[0m\u001b[0me\u001b[0m\u001b[1;33m)\u001b[0m\u001b[1;33m\u001b[0m\u001b[1;33m\u001b[0m\u001b[0m\n\u001b[0;32m     18\u001b[0m             \u001b[1;32mcontinue\u001b[0m\u001b[1;33m;\u001b[0m\u001b[1;33m\u001b[0m\u001b[1;33m\u001b[0m\u001b[0m\n\u001b[1;32m---> 19\u001b[1;33m     \u001b[0mprint\u001b[0m\u001b[1;33m(\u001b[0m\u001b[1;34m\"moved \"\u001b[0m \u001b[1;33m+\u001b[0m \u001b[0mcounter\u001b[0m \u001b[1;33m+\u001b[0m \u001b[1;34m\"files\"\u001b[0m\u001b[1;33m)\u001b[0m\u001b[1;33m\u001b[0m\u001b[1;33m\u001b[0m\u001b[0m\n\u001b[0m\u001b[0;32m     20\u001b[0m \u001b[1;33m\u001b[0m\u001b[0m\n\u001b[0;32m     21\u001b[0m \u001b[1;33m\u001b[0m\u001b[0m\n",
      "\u001b[1;31mTypeError\u001b[0m: can only concatenate str (not \"int\") to str"
     ]
    }
   ],
   "source": [
    "groupSongsByRythm('MidiCollection', 'MidiCollectionNew')"
   ]
  },
  {
   "cell_type": "code",
   "execution_count": null,
   "metadata": {},
   "outputs": [],
   "source": []
  }
 ],
 "metadata": {
  "kernelspec": {
   "display_name": "Python 3",
   "language": "python",
   "name": "python3"
  },
  "language_info": {
   "codemirror_mode": {
    "name": "ipython",
    "version": 3
   },
   "file_extension": ".py",
   "mimetype": "text/x-python",
   "name": "python",
   "nbconvert_exporter": "python",
   "pygments_lexer": "ipython3",
   "version": "3.7.4"
  }
 },
 "nbformat": 4,
 "nbformat_minor": 2
}
